{
 "cells": [
  {
   "cell_type": "code",
   "execution_count": 1,
   "id": "e9d2083a",
   "metadata": {},
   "outputs": [],
   "source": [
    "from selenium import webdriver\n",
    "from selenium.webdriver.chrome.options import Options\n",
    "from selenium.webdriver.support.relative_locator import locate_with\n",
    "from selenium.webdriver.common.by import By\n",
    "import os\n",
    "import re\n",
    "from time import sleep\n",
    "\n",
    "upper_bound = 15409\n",
    "\n",
    "cwd = os.getcwd()\n",
    "\n",
    "download_dir = os.path.join(cwd, \"OR_Storage\")\n",
    "editAddress = os.path.join(download_dir, \"OfficialReport.pdf\")\n",
    "\n",
    "options = Options()\n",
    "options.page_load_strategy = 'normal'\n",
    "options.add_argument(\"--incognito\")\n",
    "options.headless = True\n",
    "profile = {\"plugins.plugins_list\": [{\"enabled\": False, \"name\": \"Chrome PDF Viewer\"}], \"download.default_directory\": download_dir , \"download.extensions_to_open\": \"applications/pdf\"}\n",
    "options.add_experimental_option(\"prefs\", profile)\n",
    "\n",
    "driver_path = os.path.join(\"C:\\\\Chrome Drivers\\\\V116\\\\chromedriver-win64\\\\chromedriver.exe\")\n",
    "driver = webdriver.Chrome(executable_path=driver_path, options=options)\n",
    "base_url = \"https://www.parliament.scot/api/sitecore/CustomMedia/OfficialReport?meetingId=\"\n",
    "\n",
    "regex1 = \"Error\"\n",
    "regex2 = \"404\""
   ]
  },
  {
   "cell_type": "code",
   "execution_count": 10,
   "id": "c4fe7175",
   "metadata": {},
   "outputs": [],
   "source": [
    "driver.get(\"https://www.parliament.scot/api/sitecore/CustomMedia/OfficialReport?meetingId=300\")\n"
   ]
  },
  {
   "cell_type": "code",
   "execution_count": 11,
   "id": "d0742e21",
   "metadata": {},
   "outputs": [
    {
     "data": {
      "text/plain": [
       "'https://www.parliament.scot/api/sitecore/CustomMedia/OfficialReport?meetingId=5899'"
      ]
     },
     "execution_count": 11,
     "metadata": {},
     "output_type": "execute_result"
    }
   ],
   "source": [
    "driver.current_url"
   ]
  },
  {
   "cell_type": "code",
   "execution_count": 12,
   "id": "2a302d25",
   "metadata": {},
   "outputs": [],
   "source": [
    "def OffRepGatherer(base_url, batch_no):\n",
    "    tracker = \"fileprogress.txt\"\n",
    "    \n",
    "    if os.path.isfile(tracker):\n",
    "        with open(tracker, 'r') as file:\n",
    "            start_no = int(file.read())\n",
    "            print(start_no)\n",
    "    else:\n",
    "        start_no = 1\n",
    "        \n",
    "    end_no = start_no + batch_no\n",
    "    for i in range(start_no, end_no):\n",
    "        renamed = True\n",
    "        newUrl = base_url + str(i)\n",
    "        try:\n",
    "            driver.get(newUrl)\n",
    "            \n",
    "        except:\n",
    "            with open(\"OffRep_ErrorLog.txt\", 'a') as el:\n",
    "                error_log = \"Unable to pull document from \" + newUrl + \"\\n\"\n",
    "                el.write(error_log)\n",
    "        \n",
    "        if driver.current_url == newUrl:\n",
    "            with open(\"OffRep_ErrorLog.txt\", 'a') as el:\n",
    "                error_log = \"Document \" + str(i) + \" not available from API\\n\"\n",
    "                el.write(error_log)\n",
    "                \n",
    "            if i > upper_bound:\n",
    "                return True\n",
    "        \n",
    "        else:\n",
    "            \n",
    "            attempts = 0\n",
    "            while renamed:\n",
    "                if os.path.isfile(editAddress):\n",
    "                    newName = os.path.join(download_dir+(\"\\\\OR-\" + str(i)+\".pdf\"))\n",
    "                    os.rename(editAddress, newName)\n",
    "                    renamed = False\n",
    "                else:\n",
    "                    if attempts > 30:\n",
    "                        renamed = False\n",
    "                        with open(\"OffRep_ErrorLog.txt\", 'a') as el:\n",
    "                            error_log = \"Error renaming document downloaded from:\\n \" + newUrl+\"\\n\"\n",
    "                            el.write(error_log)\n",
    "                    else:\n",
    "                        attempts += 1\n",
    "                        sleep(3)\n",
    "    \n",
    "\n",
    "    with open(tracker, 'w') as file:\n",
    "        end_no = str(end_no)\n",
    "        file.write(end_no)\n",
    "        \n",
    "    return False\n",
    "        \n",
    "            \n",
    "            \n",
    "            "
   ]
  },
  {
   "cell_type": "code",
   "execution_count": 15,
   "id": "09b7c8c5",
   "metadata": {},
   "outputs": [
    {
     "name": "stdout",
     "output_type": "stream",
     "text": [
      "6243\n"
     ]
    },
    {
     "data": {
      "text/plain": [
       "True"
      ]
     },
     "execution_count": 15,
     "metadata": {},
     "output_type": "execute_result"
    }
   ],
   "source": [
    "OffRepGatherer(base_url, 10000)"
   ]
  },
  {
   "cell_type": "code",
   "execution_count": 14,
   "id": "6514fe0f",
   "metadata": {},
   "outputs": [
    {
     "data": {
      "text/plain": [
       "True"
      ]
     },
     "execution_count": 14,
     "metadata": {},
     "output_type": "execute_result"
    }
   ],
   "source": [
    "tracker = \"fileprogress.txt\"\n",
    "os.path.isfile(tracker)"
   ]
  }
 ],
 "metadata": {
  "kernelspec": {
   "display_name": "Python 3 (ipykernel)",
   "language": "python",
   "name": "python3"
  },
  "language_info": {
   "codemirror_mode": {
    "name": "ipython",
    "version": 3
   },
   "file_extension": ".py",
   "mimetype": "text/x-python",
   "name": "python",
   "nbconvert_exporter": "python",
   "pygments_lexer": "ipython3",
   "version": "3.9.16"
  }
 },
 "nbformat": 4,
 "nbformat_minor": 5
}
